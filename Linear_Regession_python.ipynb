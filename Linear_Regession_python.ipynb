{
 "cells": [
  {
   "cell_type": "markdown",
   "id": "decde5f6-12dd-4e49-aff2-44e3a5999922",
   "metadata": {},
   "source": [
    "## Linear Regression"
   ]
  },
  {
   "cell_type": "markdown",
   "id": "7d92cf4b-4dd4-4941-9839-5ff1d39e7671",
   "metadata": {},
   "source": [
    "### Setup"
   ]
  },
  {
   "cell_type": "code",
   "execution_count": 1,
   "id": "eaa76e59-b0c1-41d5-811b-ed143ac60372",
   "metadata": {},
   "outputs": [],
   "source": [
    "import numpy as np\n",
    "import pandas as pd\n"
   ]
  },
  {
   "cell_type": "code",
   "execution_count": 2,
   "id": "05c828c0-91e8-4ef0-a1bf-a9d6363cbe05",
   "metadata": {},
   "outputs": [],
   "source": [
    "import matplotlib.pyplot as plt\n",
    "plt.rc('font', size=14)\n",
    "plt.rc('axes', labelsize=14, titlesize=14)\n",
    "plt.rc('legend', fontsize=14)\n",
    "plt.rc('xtick', labelsize=10)\n",
    "plt.rc('ytick', labelsize=10)"
   ]
  },
  {
   "cell_type": "markdown",
   "id": "7c72df67-e48e-43da-9ee5-63f7d78d6976",
   "metadata": {},
   "source": [
    "### Dataset"
   ]
  },
  {
   "cell_type": "code",
   "execution_count": 3,
   "id": "f25651db-f2d9-432a-b48c-052af4cb5b7f",
   "metadata": {},
   "outputs": [],
   "source": [
    "np.random.seed(42)\n",
    "n=100 #number of instances\n",
    "X=2*np.random.rand(n,1)  \n",
    "y=4 + 3*X + np.random.randn(n,1) #column vector #4+ 3x_1 + Gaussian noise \n",
    "#w_0 + w_1 x_1 _ Gaussian Noise"
   ]
  },
  {
   "cell_type": "code",
   "execution_count": 4,
   "id": "e3fe21b6-62d5-415d-8dcf-4b71658b243b",
   "metadata": {
    "scrolled": true
   },
   "outputs": [
    {
     "data": {
      "image/png": "[encoded data removed]",
      "text/plain": [
       "<Figure size 600x400 with 1 Axes>"
      ]
     },
     "metadata": {},
     "output_type": "display_data"
    }
   ],
   "source": [
    "#plotting the data\n",
    "plt.figure(figsize=(6, 4))\n",
    "\n",
    "plt.plot(X,y,\"b.\")\n",
    "plt.xlabel(\"$x_1$\")\n",
    "plt.ylabel(\"$y$\", rotation=0)\n",
    "plt.axis([0, 2, 0, 15])\n",
    "plt.grid()\n",
    "plt.show()"
   ]
  },
  {
   "cell_type": "code",
   "execution_count": 5,
   "id": "00c8ca59-def2-4d99-9d9d-79ba0f93553c",
   "metadata": {},
   "outputs": [],
   "source": [
    "\n",
    "# Add a column of ones to the beginning of the matrix\n",
    "ones = np.ones((X.shape[0], 1))\n",
    "X_b = np.hstack((ones, X))\n"
   ]
  },
  {
   "cell_type": "markdown",
   "id": "ca1dbae4-246c-46df-a352-b42855cb5b2e",
   "metadata": {},
   "source": [
    "## Least squares method"
   ]
  },
  {
   "cell_type": "markdown",
   "id": "020aa630-ab3d-4a4b-9893-85144c498d11",
   "metadata": {},
   "source": [
    "The minimization equation can be written in the vector form as,"
   ]
  },
  {
   "cell_type": "markdown",
   "id": "69aec078-2c95-4603-9422-1146fcae459b",
   "metadata": {},
   "source": [
    "\\begin{equation*}\\begin{split}\\underset{w \\in \\mathbb{R}^d}{\\min} & {||Xw - y||}^2 \\\\\\underset{w \\in \\mathbb{R}^d}{\\min} & (Xw - y)^T(Xw - y) \\\\\\end{split}\\end{equation*}"
   ]
  },
  {
   "cell_type": "markdown",
   "id": "5f97f789-b3cd-4a89-9765-c82363e4a7b0",
   "metadata": {},
   "source": [
    "X here is a n x d matrix, where <b>n</b> is the number of samples and <b>d</b> is the number of features. <br>\n",
    "<b>w</b> is a d*1 vector"
   ]
  },
  {
   "cell_type": "markdown",
   "id": "efeecc38-41ef-4562-a819-4117c7b20c9f",
   "metadata": {},
   "source": [
    "Let's write it as a function of w and take the gradient inorder to find the minimum, "
   ]
  },
  {
   "cell_type": "markdown",
   "id": "5649d6ec-6503-4866-b208-715da1f673cd",
   "metadata": {},
   "source": [
    "\\begin{equation*}\\begin{split}f(w) &= (Xw - y)^T(Xw - y) \\\\\\nabla f(w) &= 2 (X^TX)w - 2(X^Ty) \\\\(X^TX)w^* &= X^Ty \\\\w^* &= (X^TX)^\\dagger(X^Ty)\\end{split}\\end{equation*}"
   ]
  },
  {
   "cell_type": "markdown",
   "id": "1528f33a-1eab-4e28-86fb-736aeca716fa",
   "metadata": {},
   "source": [
    "where $(X^TX)^\\dagger$ is the pseudo-inverse of $X^TX$"
   ]
  },
  {
   "cell_type": "code",
   "execution_count": 6,
   "id": "d2806fa6-4b45-4b83-bd40-aefa87cc30f3",
   "metadata": {},
   "outputs": [
    {
     "name": "stdout",
     "output_type": "stream",
     "text": [
      "[[4.21509616]\n",
      " [2.77011339]]\n"
     ]
    }
   ],
   "source": [
    "w=np.linalg.pinv(X_b.T@X_b)@(X_b.T@y)\n",
    "print(w) "
   ]
  },
  {
   "cell_type": "markdown",
   "id": "b86b5e6e-7976-477d-a267-bee92242410d",
   "metadata": {},
   "source": [
    "<b>4.215</b> corresponds to <b>w_0</b> & <b>2.77</b> corresponds <b>w_1</b> in the eqn <b>w_0 + w_1*x_1 + Gaussian_Noise</b> <br>\n",
    "Close enough to w_0=4 and w_1=3"
   ]
  },
  {
   "cell_type": "markdown",
   "id": "d746dc9f-698a-459c-90fe-ea9a0b2993c6",
   "metadata": {},
   "source": [
    "## Gradient Descent Method"
   ]
  },
  {
   "cell_type": "markdown",
   "id": "771cb5ba-e500-4488-b21a-155d6c4b4146",
   "metadata": {},
   "source": [
    "Our Original Mean Squared Error function was, $\\nabla f=2(X^TX)w-2(X^Ty)$ <br>\n",
    "Now let's use this gradient in the gradient descent equation \n"
   ]
  },
  {
   "cell_type": "markdown",
   "id": "dd878075-9552-414b-b26e-0150c47b2eb8",
   "metadata": {},
   "source": [
    "$$w^{t+1} = w^t - \\eta_t [2(X^TX)w - 2X^Ty]$$\n",
    "where \n",
    "η is a scalar used to control the step-size of the descent and \n",
    "𝑡\n",
    "is the current iteration."
   ]
  },
  {
   "cell_type": "markdown",
   "id": "d4460653-6aeb-4ccf-8f9d-fad64b920c64",
   "metadata": {},
   "source": [
    "### Batch Gradient Descent"
   ]
  },
  {
   "cell_type": "code",
   "execution_count": 7,
   "id": "c5d39978-1324-4573-9bf8-c643d3344a43",
   "metadata": {},
   "outputs": [],
   "source": [
    "eta=0.1\n",
    "n_epochs=1000\n",
    "n=len(X_b)\n",
    "\n",
    "np.random.seed(42)\n",
    "w=np.random.randn(2,1) #randomly initialize parameters\n",
    "\n",
    "for epoch in range(n_epochs):\n",
    "    gradient=2/n*X_b.T@(X_b@w-y) # divide by number of samples in batch gradient descent\n",
    "    w=w - eta*gradient\n",
    "    "
   ]
  },
  {
   "cell_type": "code",
   "execution_count": 8,
   "id": "3c555e54-8160-4dc2-a8ed-23916b8b420e",
   "metadata": {},
   "outputs": [
    {
     "name": "stdout",
     "output_type": "stream",
     "text": [
      "[[4.21509616]\n",
      " [2.77011339]]\n"
     ]
    }
   ],
   "source": [
    "print(w)"
   ]
  },
  {
   "cell_type": "markdown",
   "id": "b11a322e-f430-48ab-a5c6-167457eda5c8",
   "metadata": {},
   "source": [
    "##### Exactly what the Normal Equation found! "
   ]
  },
  {
   "cell_type": "code",
   "execution_count": 9,
   "id": "66edda08-a7cd-4e82-9890-e9ecfc924600",
   "metadata": {},
   "outputs": [
    {
     "data": {
      "text/plain": [
       "(100, 1)"
      ]
     },
     "execution_count": 9,
     "metadata": {},
     "output_type": "execute_result"
    }
   ],
   "source": [
    "y_pred = X_b@w\n",
    "y_pred.shape"
   ]
  },
  {
   "cell_type": "code",
   "execution_count": 10,
   "id": "e973f1d7-2182-476a-90bb-9aa2afbcaea3",
   "metadata": {},
   "outputs": [
    {
     "data": {
      "image/png": "[encoded data removed]",
      "text/plain": [
       "<Figure size 640x480 with 1 Axes>"
      ]
     },
     "metadata": {},
     "output_type": "display_data"
    }
   ],
   "source": [
    "plt.plot(X,y,\"b.\")\n",
    "plt.plot(X,y_pred,\"r\")\n",
    "plt.grid()\n"
   ]
  },
  {
   "cell_type": "markdown",
   "id": "2c3f4969-3259-4485-a018-d27d0dfb31e6",
   "metadata": {},
   "source": [
    "### Stochastic Gradient Descent"
   ]
  },
  {
   "cell_type": "code",
   "execution_count": 27,
   "id": "6b95a4af-2ccc-48a8-acb4-5d6a510fa1cc",
   "metadata": {},
   "outputs": [],
   "source": [
    "n_epochs=60\n",
    "t0,t1=5, 50 #learning schedule parameters\n",
    "def learning_schedule(t):\n",
    "    return t0/(t+t1)\n",
    "\n",
    "np.random.seed(42)\n",
    "w_sgd=np.random.randn(2,1)\n",
    "n=len(X_b)\n",
    "for epoch in range(n_epochs):\n",
    "    for iteration in range(n):\n",
    "        random_index=np.random.randint(n)\n",
    "        x_i=X_b[random_index:random_index+1]\n",
    "        y_i=y[random_index:random_index+1]\n",
    "        gradients=2*x_i.T @(x_i@w_sgd - y_i) #for sgd, do not divide by n (number of instances)\n",
    "        eta=learning_schedule(epoch*n+iteration)\n",
    "        w_sgd=w_sgd-eta*gradients\n",
    "\n",
    "        \n",
    "        \n",
    "    "
   ]
  },
  {
   "cell_type": "code",
   "execution_count": 28,
   "id": "09454b82-5503-4351-8136-8ee0a28d3444",
   "metadata": {},
   "outputs": [
    {
     "name": "stdout",
     "output_type": "stream",
     "text": [
      "[[4.204295  ]\n",
      " [2.79489369]]\n"
     ]
    }
   ],
   "source": [
    "print(w_sgd)"
   ]
  },
  {
   "cell_type": "code",
   "execution_count": 35,
   "id": "a6b851dd-4a21-4d4b-b9be-8068983ac72d",
   "metadata": {},
   "outputs": [
    {
     "data": {
      "text/plain": [
       "(100, 1)"
      ]
     },
     "execution_count": 35,
     "metadata": {},
     "output_type": "execute_result"
    }
   ],
   "source": [
    "y_sgd_pred = X_b@w_sgd\n",
    "y_sgd_pred.shape"
   ]
  },
  {
   "cell_type": "code",
   "execution_count": 39,
   "id": "c9002be0-2269-4714-8725-f65ec8633fc4",
   "metadata": {},
   "outputs": [
    {
     "data": {
      "image/png": "[encoded data removed]",
      "text/plain": [
       "<Figure size 640x480 with 1 Axes>"
      ]
     },
     "metadata": {},
     "output_type": "display_data"
    }
   ],
   "source": [
    "plt.plot(X,y,\"b.\")\n",
    "plt.plot(X,y_sgd_pred,\"g\")\n",
    "plt.grid()"
   ]
  },
  {
   "cell_type": "code",
   "execution_count": null,
   "id": "d38c410f-24a5-4cbb-aea5-daa806cfd597",
   "metadata": {},
   "outputs": [],
   "source": []
  }
 ],
 "metadata": {
  "kernelspec": {
   "display_name": "end_2_end_ch2",
   "language": "python",
   "name": "end_2_end_ch2"
  },
  "language_info": {
   "codemirror_mode": {
    "name": "ipython",
    "version": 3
   },
   "file_extension": ".py",
   "mimetype": "text/x-python",
   "name": "python",
   "nbconvert_exporter": "python",
   "pygments_lexer": "ipython3",
   "version": "3.12.3"
  }
 },
 "nbformat": 4,
 "nbformat_minor": 5
}
