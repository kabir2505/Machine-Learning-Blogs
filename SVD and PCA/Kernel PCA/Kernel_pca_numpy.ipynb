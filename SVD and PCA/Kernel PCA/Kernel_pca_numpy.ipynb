{
 "cells": [
  {
   "cell_type": "code",
   "execution_count": 1,
   "id": "6d5edb4c-3773-4f11-9905-1c65c1e25c86",
   "metadata": {},
   "outputs": [],
   "source": [
    "import numpy as np\n",
    "import matplotlib.pyplot as plt"
   ]
  },
  {
   "cell_type": "markdown",
   "id": "e64f1900-3ade-4466-af8f-4bb962eb5ddd",
   "metadata": {},
   "source": [
    "## Kernel PCA\n",
    "Let's take a dataset $\\mathbf{X}$ where\n",
    "\n",
    "* $d$: no. of features\n",
    "* $n$: no. of datapoints\n",
    "$$\n",
    "X=\\left [\n",
    "\\begin{array}{ccccc}\n",
    "    | & | & | & & | \\\\\n",
    "    x_1 & x_2 & x_3 & \\ldots & x_4 \\\\\n",
    "    | & | & | & & |\n",
    "\\end{array}\n",
    "\\right ]\n",
    "$$"
   ]
  },
  {
   "cell_type": "code",
   "execution_count": 2,
   "id": "fbdc70c6-68aa-40a9-81b7-fc72112f4a8c",
   "metadata": {},
   "outputs": [],
   "source": [
    "X = np.array([[1, 1],[2, 4],[-1, 1],[-2, 4]]).T"
   ]
  },
  {
   "cell_type": "code",
   "execution_count": 3,
   "id": "a7168038-4186-48c9-8476-2d6e1835763b",
   "metadata": {},
   "outputs": [
    {
     "data": {
      "text/plain": [
       "array([[ 1,  2, -1, -2],\n",
       "       [ 1,  4,  1,  4]])"
      ]
     },
     "execution_count": 3,
     "metadata": {},
     "output_type": "execute_result"
    }
   ],
   "source": [
    "X"
   ]
  },
  {
   "cell_type": "code",
   "execution_count": 4,
   "id": "912da5bf-4b82-4cd8-8118-d07df5dea317",
   "metadata": {},
   "outputs": [
    {
     "data": {
      "image/png": "[encoded data removed]",
      "text/plain": [
       "<Figure size 640x480 with 1 Axes>"
      ]
     },
     "metadata": {},
     "output_type": "display_data"
    }
   ],
   "source": [
    "plt.scatter(X[0, :], X[1, :])\n",
    "plt.axhline(c='k')\n",
    "plt.axvline(c='k');\n",
    "plt.grid();"
   ]
  },
  {
   "cell_type": "markdown",
   "id": "7975b27d-5cde-44e4-9056-bb21b780796f",
   "metadata": {},
   "source": [
    "### Step 1: Calculate $\\mathbf{K} \\in \\mathbb{R}^{n \\times n}$ using a kernel function where $\\mathbf{K}_{ij}=k(x_i,x_j)$."
   ]
  },
  {
   "cell_type": "code",
   "execution_count": 5,
   "id": "ded6f212-312f-4481-8025-bb33f8345c36",
   "metadata": {},
   "outputs": [],
   "source": [
    "def polynomial_kernel(A,B,k): \n",
    "    # (x^T x' + 1)^p\n",
    "    return(A.T @ B + 1)**k\n",
    "\n",
    "K_poly=polynomial_kernel(X,X,2)"
   ]
  },
  {
   "cell_type": "code",
   "execution_count": 7,
   "id": "86be207b-bea7-43fe-aa6e-2c8b6be0de3d",
   "metadata": {},
   "outputs": [
    {
     "data": {
      "text/plain": [
       "array([[  9,  49,   1,   9],\n",
       "       [ 49, 441,   9, 169],\n",
       "       [  1,   9,   9,  49],\n",
       "       [  9, 169,  49, 441]])"
      ]
     },
     "execution_count": 7,
     "metadata": {},
     "output_type": "execute_result"
    }
   ],
   "source": [
    "K_poly"
   ]
  },
  {
   "cell_type": "markdown",
   "id": "474165af-267c-4b38-a00c-cbae62ad159b",
   "metadata": {},
   "source": [
    "### Step 2: Center the kernel using the following formula.\n",
    "$$\n",
    "\\mathbf{K}^C=\\mathbf{K}-\\mathbf{I}\\mathbf{K}-\\mathbf{K}\\mathbf{I}+\\mathbf{I}\\mathbf{K}\\mathbf{I}\n",
    "$$\n",
    "where $\\mathbf{K}^C$ is the centered kernel, and $\\mathbf{I} \\in \\mathbb{R}^{n \\times n}$ where all the elements are $\\frac{1}{n}$."
   ]
  },
  {
   "cell_type": "code",
   "execution_count": 11,
   "id": "c6438df3-c7ad-4275-b8d6-17b321f9bc2e",
   "metadata": {},
   "outputs": [],
   "source": [
    "def center_K(K): # K is n x n\n",
    "    n=K.shape[0]\n",
    "    I=np.ones((n,n)) / n\n",
    "    # K - IK - KI + IKI # (n x n) - (n x n) - n x n + n x n\n",
    "    return K - I@K - K@I + I@K@I\n",
    "\n",
    "K_centered=center_K(K_poly)\n",
    "    \n",
    "    "
   ]
  },
  {
   "cell_type": "code",
   "execution_count": 12,
   "id": "af80b6a4-e460-479c-b606-a114aa52580f",
   "metadata": {},
   "outputs": [
    {
     "data": {
      "text/plain": [
       "array([[ 67., -43.,  59., -83.],\n",
       "       [-43., 199., -83., -73.],\n",
       "       [ 59., -83.,  67., -43.],\n",
       "       [-83., -73., -43., 199.]])"
      ]
     },
     "execution_count": 12,
     "metadata": {},
     "output_type": "execute_result"
    }
   ],
   "source": [
    "K_centered"
   ]
  },
  {
   "cell_type": "markdown",
   "id": "d1b3f113-aee9-44cd-bb9f-1501c2a16107",
   "metadata": {},
   "source": [
    "### Step 3: Compute the eigenvectors $\\{\\beta _1, \\beta _2, \\ldots, \\beta _n\\}$ and eigenvalues $\\{n\\lambda _1, n\\lambda _2, \\ldots, n\\lambda _n\\}$ of $K^C$ and normalize to get\n",
    "$$\n",
    "\\forall u \\hspace{2em} \\alpha _u = \\frac{\\beta _u}{\\sqrt{n \\lambda _u}}\n",
    "$$"
   ]
  },
  {
   "cell_type": "code",
   "execution_count": 24,
   "id": "4d8cc315-6862-4ac7-b731-afe321230b55",
   "metadata": {},
   "outputs": [],
   "source": [
    "lam,beta= np.linalg.eigh(K_centered)\n",
    "lam, beta = lam[::-1][:-1], beta[:,::-1][:,:-1]"
   ]
  },
  {
   "cell_type": "code",
   "execution_count": 25,
   "id": "482f9903-d3cd-4b8b-a384-d35c35e57db6",
   "metadata": {},
   "outputs": [
    {
     "data": {
      "text/plain": [
       "(array([277.9275172, 252.       ,   2.0724828]),\n",
       " array([[ 0.10365278, -0.5       , -0.69946844],\n",
       "        [ 0.69946844,  0.5       ,  0.10365278],\n",
       "        [-0.10365278, -0.5       ,  0.69946844],\n",
       "        [-0.69946844,  0.5       , -0.10365278]]))"
      ]
     },
     "execution_count": 25,
     "metadata": {},
     "output_type": "execute_result"
    }
   ],
   "source": [
    "lam,beta"
   ]
  },
  {
   "cell_type": "code",
   "execution_count": 30,
   "id": "26bd4fd7-4dd3-40e7-b34b-91a75ae6ab30",
   "metadata": {},
   "outputs": [],
   "source": [
    "alpha=beta/np.sqrt(lam.reshape((1,-1)))"
   ]
  },
  {
   "cell_type": "code",
   "execution_count": 31,
   "id": "1f83e245-8400-4fed-b978-05bf45c2767a",
   "metadata": {},
   "outputs": [
    {
     "data": {
      "text/plain": [
       "array([[ 0.00621749, -0.03149704, -0.48587288],\n",
       "       [ 0.0419568 ,  0.03149704,  0.0720005 ],\n",
       "       [-0.00621749, -0.03149704,  0.48587288],\n",
       "       [-0.0419568 ,  0.03149704, -0.0720005 ]])"
      ]
     },
     "execution_count": 31,
     "metadata": {},
     "output_type": "execute_result"
    }
   ],
   "source": [
    "alpha"
   ]
  },
  {
   "cell_type": "markdown",
   "id": "02023898-3757-4bff-bd60-531279a7ce5f",
   "metadata": {},
   "source": [
    "### Step 3: Compute $\\sum _{j=1}^{n}\\mathbf{\\alpha }_{kj}\\mathbf{K}_{ij}^{C} \\ \\ \\forall k$\n",
    "\n",
    "\\begin{equation*}\n",
    "\\mathbf{x}_{i} \\in \\mathbb{R}^{d}\\rightarrow \\left[\\begin{array}{ c c c c }\n",
    "\\sum\\limits _{j=1}^{n}\\mathbf{\\alpha }_{1j}\\mathbf{K}_{ij}^{C} & \\sum\\limits _{j=1}^{n}\\mathbf{\\alpha }_{2j}\\mathbf{K}_{ij}^{C} & \\dotsc  & \\sum\\limits _{j=1}^{n}\\mathbf{\\alpha }_{nj}\\mathbf{K}_{ij}^{C}\n",
    "\\end{array}\\right]\n",
    "\\end{equation*}"
   ]
  },
  {
   "cell_type": "code",
   "execution_count": 32,
   "id": "6def21ad-7194-4171-8166-7abdcee37028",
   "metadata": {},
   "outputs": [
    {
     "data": {
      "text/plain": [
       "array([[  1.72801191,  -7.93725393,  -1.00696319],\n",
       "       [ 11.66094908,   7.93725393,   0.14921979],\n",
       "       [ -1.72801191,  -7.93725393,   1.00696319],\n",
       "       [-11.66094908,   7.93725393,  -0.14921979]])"
      ]
     },
     "execution_count": 32,
     "metadata": {},
     "output_type": "execute_result"
    }
   ],
   "source": [
    "X_prime=K_centered@alpha\n",
    "X_prime"
   ]
  },
  {
   "cell_type": "markdown",
   "id": "77d12b8c-545b-42cc-a048-421d370302c4",
   "metadata": {},
   "source": [
    "# Kernel PCA on Swiss Roll Dataset"
   ]
  },
  {
   "cell_type": "code",
   "execution_count": null,
   "id": "e0b110d7-60e3-4fd1-8e53-6a11daa4e6eb",
   "metadata": {},
   "outputs": [],
   "source": []
  }
 ],
 "metadata": {
  "kernelspec": {
   "display_name": "end_2_end_ch2",
   "language": "python",
   "name": "end_2_end_ch2"
  },
  "language_info": {
   "codemirror_mode": {
    "name": "ipython",
    "version": 3
   },
   "file_extension": ".py",
   "mimetype": "text/x-python",
   "name": "python",
   "nbconvert_exporter": "python",
   "pygments_lexer": "ipython3",
   "version": "3.12.4"
  }
 },
 "nbformat": 4,
 "nbformat_minor": 5
}
