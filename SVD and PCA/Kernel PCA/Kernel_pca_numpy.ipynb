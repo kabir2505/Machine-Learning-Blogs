{
 "cells": [
  {
   "cell_type": "code",
   "execution_count": 1,
   "id": "6d5edb4c-3773-4f11-9905-1c65c1e25c86",
   "metadata": {},
   "outputs": [],
   "source": [
    "import numpy as np\n",
    "import matplotlib.pyplot as plt"
   ]
  },
  {
   "cell_type": "markdown",
   "id": "e64f1900-3ade-4466-af8f-4bb962eb5ddd",
   "metadata": {},
   "source": [
    "## Kernel PCA\n",
    "Let's take a dataset $\\mathbf{X}$ where\n",
    "\n",
    "* $d$: no. of features\n",
    "* $n$: no. of datapoints\n",
    "$$\n",
    "X=\\left [\n",
    "\\begin{array}{ccccc}\n",
    "    | & | & | & & | \\\\\n",
    "    x_1 & x_2 & x_3 & \\ldots & x_4 \\\\\n",
    "    | & | & | & & |\n",
    "\\end{array}\n",
    "\\right ]\n",
    "$$"
   ]
  },
  {
   "cell_type": "code",
   "execution_count": 2,
   "id": "fbdc70c6-68aa-40a9-81b7-fc72112f4a8c",
   "metadata": {},
   "outputs": [],
   "source": [
    "X = np.array([[1, 1],[2, 4],[-1, 1],[-2, 4]]).T"
   ]
  },
  {
   "cell_type": "code",
   "execution_count": 3,
   "id": "a7168038-4186-48c9-8476-2d6e1835763b",
   "metadata": {},
   "outputs": [
    {
     "data": {
      "text/plain": [
       "array([[ 1,  2, -1, -2],\n",
       "       [ 1,  4,  1,  4]])"
      ]
     },
     "execution_count": 3,
     "metadata": {},
     "output_type": "execute_result"
    }
   ],
   "source": [
    "X"
   ]
  },
  {
   "cell_type": "code",
   "execution_count": 4,
   "id": "912da5bf-4b82-4cd8-8118-d07df5dea317",
   "metadata": {},
   "outputs": [
    {
     "data": {
      "image/png": "[encoded data removed]",
      "text/plain": [
       "<Figure size 640x480 with 1 Axes>"
      ]
     },
     "metadata": {},
     "output_type": "display_data"
    }
   ],
   "source": [
    "plt.scatter(X[0, :], X[1, :])\n",
    "plt.axhline(c='k')\n",
    "plt.axvline(c='k');\n",
    "plt.grid();"
   ]
  },
  {
   "cell_type": "markdown",
   "id": "7975b27d-5cde-44e4-9056-bb21b780796f",
   "metadata": {},
   "source": [
    "### Step 1: Calculate $\\mathbf{K} \\in \\mathbb{R}^{n \\times n}$ using a kernel function where $\\mathbf{K}_{ij}=k(x_i,x_j)$."
   ]
  },
  {
   "cell_type": "code",
   "execution_count": 5,
   "id": "ded6f212-312f-4481-8025-bb33f8345c36",
   "metadata": {},
   "outputs": [],
   "source": [
    "def polynomial_kernel(A,B,k): \n",
    "    # (x^T x' + 1)^p\n",
    "    return(A.T @ B + 1)**k\n",
    "\n",
    "K_poly=polynomial_kernel(X,X,2)"
   ]
  },
  {
   "cell_type": "code",
   "execution_count": 7,
   "id": "86be207b-bea7-43fe-aa6e-2c8b6be0de3d",
   "metadata": {},
   "outputs": [
    {
     "data": {
      "text/plain": [
       "array([[  9,  49,   1,   9],\n",
       "       [ 49, 441,   9, 169],\n",
       "       [  1,   9,   9,  49],\n",
       "       [  9, 169,  49, 441]])"
      ]
     },
     "execution_count": 7,
     "metadata": {},
     "output_type": "execute_result"
    }
   ],
   "source": [
    "K_poly"
   ]
  },
  {
   "cell_type": "markdown",
   "id": "474165af-267c-4b38-a00c-cbae62ad159b",
   "metadata": {},
   "source": [
    "### Step 2: Center the kernel using the following formula.\n",
    "$$\n",
    "\\mathbf{K}^C=\\mathbf{K}-\\mathbf{I}\\mathbf{K}-\\mathbf{K}\\mathbf{I}+\\mathbf{I}\\mathbf{K}\\mathbf{I}\n",
    "$$\n",
    "where $\\mathbf{K}^C$ is the centered kernel, and $\\mathbf{I} \\in \\mathbb{R}^{n \\times n}$ where all the elements are $\\frac{1}{n}$."
   ]
  },
  {
   "cell_type": "code",
   "execution_count": 11,
   "id": "c6438df3-c7ad-4275-b8d6-17b321f9bc2e",
   "metadata": {},
   "outputs": [],
   "source": [
    "def center_K(K): # K is n x n\n",
    "    n=K.shape[0]\n",
    "    I=np.ones((n,n)) / n\n",
    "    # K - IK - KI + IKI # (n x n) - (n x n) - n x n + n x n\n",
    "    return K - I@K - K@I + I@K@I\n",
    "\n",
    "K_centered=center_K(K_poly)\n",
    "    \n",
    "    "
   ]
  },
  {
   "cell_type": "code",
   "execution_count": 12,
   "id": "af80b6a4-e460-479c-b606-a114aa52580f",
   "metadata": {},
   "outputs": [
    {
     "data": {
      "text/plain": [
       "array([[ 67., -43.,  59., -83.],\n",
       "       [-43., 199., -83., -73.],\n",
       "       [ 59., -83.,  67., -43.],\n",
       "       [-83., -73., -43., 199.]])"
      ]
     },
     "execution_count": 12,
     "metadata": {},
     "output_type": "execute_result"
    }
   ],
   "source": [
    "K_centered"
   ]
  },
  {
   "cell_type": "markdown",
   "id": "d1b3f113-aee9-44cd-bb9f-1501c2a16107",
   "metadata": {},
   "source": [
    "### Step 3: Compute the eigenvectors $\\{\\beta _1, \\beta _2, \\ldots, \\beta _n\\}$ and eigenvalues $\\{n\\lambda _1, n\\lambda _2, \\ldots, n\\lambda _n\\}$ of $K^C$ and normalize to get\n",
    "$$\n",
    "\\forall u \\hspace{2em} \\alpha _u = \\frac{\\beta _u}{\\sqrt{n \\lambda _u}}\n",
    "$$"
   ]
  },
  {
   "cell_type": "code",
   "execution_count": 24,
   "id": "4d8cc315-6862-4ac7-b731-afe321230b55",
   "metadata": {},
   "outputs": [],
   "source": [
    "lam,beta= np.linalg.eigh(K_centered)\n",
    "lam, beta = lam[::-1][:-1], beta[:,::-1][:,:-1]"
   ]
  },
  {
   "cell_type": "code",
   "execution_count": 25,
   "id": "482f9903-d3cd-4b8b-a384-d35c35e57db6",
   "metadata": {},
   "outputs": [
    {
     "data": {
      "text/plain": [
       "(array([277.9275172, 252.       ,   2.0724828]),\n",
       " array([[ 0.10365278, -0.5       , -0.69946844],\n",
       "        [ 0.69946844,  0.5       ,  0.10365278],\n",
       "        [-0.10365278, -0.5       ,  0.69946844],\n",
       "        [-0.69946844,  0.5       , -0.10365278]]))"
      ]
     },
     "execution_count": 25,
     "metadata": {},
     "output_type": "execute_result"
    }
   ],
   "source": [
    "lam,beta"
   ]
  },
  {
   "cell_type": "code",
   "execution_count": 30,
   "id": "26bd4fd7-4dd3-40e7-b34b-91a75ae6ab30",
   "metadata": {},
   "outputs": [],
   "source": [
    "alpha=beta/np.sqrt(lam.reshape((1,-1)))"
   ]
  },
  {
   "cell_type": "code",
   "execution_count": 31,
   "id": "1f83e245-8400-4fed-b978-05bf45c2767a",
   "metadata": {},
   "outputs": [
    {
     "data": {
      "text/plain": [
       "array([[ 0.00621749, -0.03149704, -0.48587288],\n",
       "       [ 0.0419568 ,  0.03149704,  0.0720005 ],\n",
       "       [-0.00621749, -0.03149704,  0.48587288],\n",
       "       [-0.0419568 ,  0.03149704, -0.0720005 ]])"
      ]
     },
     "execution_count": 31,
     "metadata": {},
     "output_type": "execute_result"
    }
   ],
   "source": [
    "alpha"
   ]
  },
  {
   "cell_type": "markdown",
   "id": "02023898-3757-4bff-bd60-531279a7ce5f",
   "metadata": {},
   "source": [
    "### Step 3: Compute $\\sum _{j=1}^{n}\\mathbf{\\alpha }_{kj}\\mathbf{K}_{ij}^{C} \\ \\ \\forall k$\n",
    "\n",
    "\\begin{equation*}\n",
    "\\mathbf{x}_{i} \\in \\mathbb{R}^{d}\\rightarrow \\left[\\begin{array}{ c c c c }\n",
    "\\sum\\limits _{j=1}^{n}\\mathbf{\\alpha }_{1j}\\mathbf{K}_{ij}^{C} & \\sum\\limits _{j=1}^{n}\\mathbf{\\alpha }_{2j}\\mathbf{K}_{ij}^{C} & \\dotsc  & \\sum\\limits _{j=1}^{n}\\mathbf{\\alpha }_{nj}\\mathbf{K}_{ij}^{C}\n",
    "\\end{array}\\right]\n",
    "\\end{equation*}"
   ]
  },
  {
   "cell_type": "code",
   "execution_count": 32,
   "id": "6def21ad-7194-4171-8166-7abdcee37028",
   "metadata": {},
   "outputs": [
    {
     "data": {
      "text/plain": [
       "array([[  1.72801191,  -7.93725393,  -1.00696319],\n",
       "       [ 11.66094908,   7.93725393,   0.14921979],\n",
       "       [ -1.72801191,  -7.93725393,   1.00696319],\n",
       "       [-11.66094908,   7.93725393,  -0.14921979]])"
      ]
     },
     "execution_count": 32,
     "metadata": {},
     "output_type": "execute_result"
    }
   ],
   "source": [
    "X_prime=K_centered@alpha\n",
    "X_prime"
   ]
  },
  {
   "cell_type": "markdown",
   "id": "6150e478-0b50-4082-a0ef-1c6aa6476e0d",
   "metadata": {},
   "source": [
    "# Week 2 programming assignment"
   ]
  },
  {
   "cell_type": "code",
   "execution_count": 51,
   "id": "2fcafb0f-edfd-419b-8587-b3930cb773e6",
   "metadata": {},
   "outputs": [],
   "source": [
    "from sklearn.datasets import make_circles\n",
    "\n",
    "X, y = make_circles(n_samples=1000, factor=0.9, noise=0.2, random_state=0)"
   ]
  },
  {
   "cell_type": "code",
   "execution_count": 52,
   "id": "b8ac878b-49d6-4d2a-8389-0e5e1a584311",
   "metadata": {},
   "outputs": [
    {
     "data": {
      "text/plain": [
       "<matplotlib.collections.PathCollection at 0x168e02ed0>"
      ]
     },
     "execution_count": 52,
     "metadata": {},
     "output_type": "execute_result"
    },
    {
     "data": {
      "image/png": "[encoded data removed]",
      "text/plain": [
       "<Figure size 640x480 with 1 Axes>"
      ]
     },
     "metadata": {},
     "output_type": "display_data"
    }
   ],
   "source": [
    "#plotting the dataset\n",
    "plt.scatter(X[:,0],X[:,1])"
   ]
  },
  {
   "cell_type": "code",
   "execution_count": 53,
   "id": "8c8af75b-701c-453d-a1eb-b5f46a5a0cc4",
   "metadata": {},
   "outputs": [
    {
     "data": {
      "text/plain": [
       "(1000, 2)"
      ]
     },
     "execution_count": 53,
     "metadata": {},
     "output_type": "execute_result"
    }
   ],
   "source": [
    "X.shape"
   ]
  },
  {
   "cell_type": "code",
   "execution_count": 54,
   "id": "f48b23d4-bbba-4ca2-87f6-b533c39ee415",
   "metadata": {},
   "outputs": [
    {
     "data": {
      "text/plain": [
       "(1000,)"
      ]
     },
     "execution_count": 54,
     "metadata": {},
     "output_type": "execute_result"
    }
   ],
   "source": [
    "y.shape"
   ]
  },
  {
   "cell_type": "markdown",
   "id": "b4129c3f-62d0-46b6-ab1b-6e85ede6c269",
   "metadata": {},
   "source": [
    "## Problem \n",
    "Find the kernel matrix $K$ using the polynomial kernel with degree $2$. \n",
    "\n",
    "<u>Conversion</u>\n",
    "\n",
    "Enter the following quantity as your answer correct to two decimal places:\n",
    "\n",
    "$$\n",
    "\\cfrac{1}{n} \\sqrt{\\sum \\limits_{i = 1}^{n} \\sum \\limits_{j = 1}^{n} (K_{ij})^2}\n",
    "$$"
   ]
  },
  {
   "cell_type": "code",
   "execution_count": 55,
   "id": "62b7c7dd-cc82-418e-9dfa-bc6c6300596a",
   "metadata": {},
   "outputs": [
    {
     "name": "stdout",
     "output_type": "stream",
     "text": [
      "2.096195646589988\n"
     ]
    }
   ],
   "source": [
    "#X is n x d, K-> n x n\n",
    "def poly_kernel(X,p):\n",
    "    return (X@X.T + 1 )**p\n",
    "\n",
    "K=poly_kernel(X,2)\n",
    "n=K.shape[0]\n",
    "print(np.sqrt((K**2).sum()) / (n))\n"
   ]
  },
  {
   "cell_type": "markdown",
   "id": "dd7f95c8-ad64-4730-bcc6-247f499bbef4",
   "metadata": {},
   "source": [
    "## Problem 5\n",
    "Find the kernel matrix $K$ using the Gaussian kernel with parameter $\\sigma = 2$. \n",
    "\n",
    "<u>Conversion</u>\n",
    "\n",
    "Enter the following quantity as your answer correct to two decimal places:\n",
    "\n",
    "$$\n",
    "\\cfrac{1}{n} \\sqrt{\\sum \\limits_{i = 1}^{n} \\sum \\limits_{j = 1}^{n} (K_{ij})^2}\n",
    "$$"
   ]
  },
  {
   "cell_type": "code",
   "execution_count": 56,
   "id": "df61cb60-8b71-4366-ba88-0d4e32d1139d",
   "metadata": {},
   "outputs": [],
   "source": [
    "def gaussian_kernel(X,y,s):\n",
    "    return np.exp(-np.linalg.norm((X-y))**2)/(2*(s**2))\n",
    "\n",
    "def RBF_kernel(X,sigma):\n",
    "    n=X.shape[0]\n",
    "    return np.array([gaussian_kernel(X[i], X[j], sigma) for i in range(n) for j in range(n)]).reshape(n, n)"
   ]
  },
  {
   "cell_type": "code",
   "execution_count": 57,
   "id": "a78c3569-f509-46f2-8407-06046c5c8672",
   "metadata": {},
   "outputs": [
    {
     "name": "stdout",
     "output_type": "stream",
     "text": [
      "0.05492863922775459\n"
     ]
    }
   ],
   "source": [
    "K1=RBF_kernel(X,2)\n",
    "print(np.sqrt((K1 ** 2).sum()) / (n))"
   ]
  },
  {
   "cell_type": "markdown",
   "id": "3b58cbb6-1e8d-4391-95eb-8f8699b63480",
   "metadata": {},
   "source": [
    "## Problem 6\n",
    "Find the center of the kernel matrix $K$ obtained in problem 4. Call this centered matrix $KC$.\n",
    "\n",
    "<u>Conversion</u>\n",
    "\n",
    "Enter the following quantity as your answer correct to two decimal places:\n",
    "\n",
    "$$\n",
    "\\cfrac{1}{n} \\sqrt{\\sum \\limits_{i = 1}^{n} \\sum \\limits_{j = 1}^{n} KC_{ij}^2}\n",
    "$$"
   ]
  },
  {
   "cell_type": "code",
   "execution_count": 58,
   "id": "9cbaaf23-4644-4d8f-9774-3785b844eb41",
   "metadata": {},
   "outputs": [
    {
     "name": "stdout",
     "output_type": "stream",
     "text": [
      "1.4517985176976844\n"
     ]
    }
   ],
   "source": [
    "def K_centered(K):\n",
    "  N = K.shape[0]\n",
    "  one_n = np.ones((N,N)) / N\n",
    "  K = K - one_n.dot(K) - K.dot(one_n) + one_n.dot(K).dot(one_n)\n",
    "  return K\n",
    "KC = K_centered(K)\n",
    "print(np.sqrt((KC ** 2).sum()) / (1000))"
   ]
  },
  {
   "cell_type": "markdown",
   "id": "66c55356-1834-4a6a-9e8f-f899c261cee2",
   "metadata": {},
   "source": [
    "# Problem 7\n",
    "Find the projections (scalar) of all the data points on to the first two principal components obtained using polynomial kernel of degree 2.\n",
    "\n",
    "<u>Conversion</u>\n",
    "\n",
    "if $\\alpha_1, \\alpha_2, ..., \\alpha_n$ are the prjections on the first PC and $\\beta_1, \\beta_2, ..., \\beta_n$ are the projections on the second PC, enter the following quantity as your answer correct to two decimal places:\n",
    "\n",
    "$$\\dfrac{1}{n}\\sum_{i = 1}^{n} |\\alpha_i| + \\dfrac{1}{n}\\sum_{i = 1}^{n} |\\beta_i|$$"
   ]
  },
  {
   "cell_type": "code",
   "execution_count": 59,
   "id": "287fc9a0-45aa-4e61-9a51-c427cbd0a32d",
   "metadata": {},
   "outputs": [],
   "source": [
    "def Projection(M):\n",
    "    eigval, eigvec = np.linalg.eigh(M)\n",
    "    lambda_1, lambda_2 = eigval[-1], eigval[-2]\n",
    "    alpha_1, alpha_2 = eigvec[:, -1]/ (np.linalg.norm(eigvec[:, -1])*np.sqrt(lambda_1)), eigvec[:, -2]/(np.linalg.norm(eigvec[:, -2])*np.sqrt(lambda_2))\n",
    "    return alpha_1.dot(M), alpha_2.dot(M)\n",
    "    #return eigvec[:, -1], eigvec[-2]\n"
   ]
  },
  {
   "cell_type": "code",
   "execution_count": 60,
   "id": "f158ab69-59fe-444a-ac50-ab830896c7c7",
   "metadata": {},
   "outputs": [
    {
     "name": "stdout",
     "output_type": "stream",
     "text": [
      "1.744726799095336\n"
     ]
    }
   ],
   "source": [
    "pc1, pc2 = Projection(KC)\n",
    "print((np.abs(pc1).sum()+ np.abs(pc2).sum())/len(pc2))"
   ]
  }
 ],
 "metadata": {
  "kernelspec": {
   "display_name": "end_2_end_ch2",
   "language": "python",
   "name": "end_2_end_ch2"
  },
  "language_info": {
   "codemirror_mode": {
    "name": "ipython",
    "version": 3
   },
   "file_extension": ".py",
   "mimetype": "text/x-python",
   "name": "python",
   "nbconvert_exporter": "python",
   "pygments_lexer": "ipython3",
   "version": "3.12.4"
  }
 },
 "nbformat": 4,
 "nbformat_minor": 5
}
