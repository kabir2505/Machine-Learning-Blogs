{
 "cells": [
  {
   "cell_type": "markdown",
   "id": "d73a4131-92c6-45af-950d-009fed597d6c",
   "metadata": {},
   "source": [
    "# PCA"
   ]
  },
  {
   "cell_type": "markdown",
   "id": "47d7b7c0-f156-48f5-9778-b9233bdcab22",
   "metadata": {},
   "source": [
    "## Steps involved in PCA\n",
    "\n",
    "\n",
    "*   Step 1: Center the dataset\n",
    "\n",
    "*   Step 2: Calculate the covariance matrix of the centered data\n",
    "\n",
    "*   Step 3: Compute the eigenvectors and eigenvalues\n",
    "\n",
    "*   Step 4: Sort the eigenvalues in descending order and choose the top k eigenvectors corresponding to the highest eigenvalues\n",
    "\n",
    "*   Step 5: Transform the original data by multiplying it with the selected eigenvectors(PCs) to obtain a lower-dimensional representation.\n"
   ]
  },
  {
   "cell_type": "code",
   "execution_count": 1,
   "id": "c05a53e1-f32f-42ff-a8f6-51114079e5aa",
   "metadata": {},
   "outputs": [],
   "source": [
    "import numpy as np\n",
    "import matplotlib.pyplot as plt"
   ]
  },
  {
   "cell_type": "code",
   "execution_count": 2,
   "id": "1454079d-5f78-4cbf-b572-124709e29f65",
   "metadata": {},
   "outputs": [],
   "source": [
    "X = np.array([(4,1),(5,4),(6,3),(7,4),(2,-1),(-1,-2),(0,-3),(-1,-4)]).T"
   ]
  },
  {
   "cell_type": "code",
   "execution_count": 6,
   "id": "5a0e9317-bf11-4f52-bba4-530ae3248884",
   "metadata": {},
   "outputs": [
    {
     "data": {
      "image/png": "[encoded data removed]",
      "text/plain": [
       "<Figure size 640x480 with 1 Axes>"
      ]
     },
     "metadata": {},
     "output_type": "display_data"
    }
   ],
   "source": [
    "plt.scatter(X[0,:],X[1,:])\n",
    "plt.axhline(0,color='k')\n",
    "plt.axvline(0,color='k')\n",
    "x_mean=X.mean(axis=1)\n",
    "plt.scatter(x_mean[0],x_mean[1],color='r')\n",
    "plt.grid()\n",
    "plt.show()"
   ]
  },
  {
   "cell_type": "code",
   "execution_count": 8,
   "id": "a6599381-1e93-4d0c-be8d-5ad9a78a01b8",
   "metadata": {},
   "outputs": [],
   "source": [
    "def center(X):\n",
    "    return X - X.mean(axis=1).reshape(-1,1)\n",
    "d,n=X.shape\n",
    "X_centered=center(X)"
   ]
  },
  {
   "cell_type": "code",
   "execution_count": 12,
   "id": "b24c9531-4b63-4df5-a8d1-b236a3c925a2",
   "metadata": {},
   "outputs": [
    {
     "data": {
      "text/plain": [
       "array([[ 1.25,  2.25,  3.25,  4.25, -0.75, -3.75, -2.75, -3.75],\n",
       "       [ 0.75,  3.75,  2.75,  3.75, -1.25, -2.25, -3.25, -4.25]])"
      ]
     },
     "execution_count": 12,
     "metadata": {},
     "output_type": "execute_result"
    }
   ],
   "source": [
    "X_centered # X here is a d x n matrix"
   ]
  },
  {
   "cell_type": "markdown",
   "id": "817ec1ab-6f20-4948-a157-ac5995f42a2c",
   "metadata": {},
   "source": [
    "\n",
    "The covariance matrix is given by\n",
    "$\\mathbf{C} \\ =\\ \\frac{1}{n}\\sum \\limits_{i\\ =\\ 1}^{n} \\mathbf {x}_{i}\\mathbf {x}_{i}^{T} \\ =\\ \\frac{1}{n}\\mathbf{XX}^{T}$"
   ]
  },
  {
   "cell_type": "code",
   "execution_count": 13,
   "id": "be0baa88-dd02-462e-9423-1e958a2acf5a",
   "metadata": {},
   "outputs": [
    {
     "data": {
      "text/plain": [
       "array([[8.9375, 8.5625],\n",
       "       [8.5625, 8.9375]])"
      ]
     },
     "execution_count": 13,
     "metadata": {},
     "output_type": "execute_result"
    }
   ],
   "source": [
    "def covariance(X):\n",
    "    return X@X.T/ X.shape[1] # because X here is a d  x n matrix\n",
    "C=covariance(X_centered)\n",
    "C\n",
    "    \n",
    "    "
   ]
  },
  {
   "cell_type": "markdown",
   "id": "ae37b8c3-5a3e-4224-b03f-32fbd59b784f",
   "metadata": {},
   "source": [
    "## Compute the principal components\n",
    "\n",
    "The $k^{th}$ principal component is given by the eigenvector corresponding to the $k^{th}$ largest eigenvalue"
   ]
  },
  {
   "cell_type": "code",
   "execution_count": 15,
   "id": "43e0ce6a-d51c-4644-a6c4-7ae0601e177b",
   "metadata": {},
   "outputs": [
    {
     "data": {
      "text/plain": [
       "array([0.70710678, 0.70710678])"
      ]
     },
     "execution_count": 15,
     "metadata": {},
     "output_type": "execute_result"
    }
   ],
   "source": [
    "def compute_pc(C):\n",
    "    \n",
    "    eigval,eigvec=np.linalg.eigh(C)\n",
    "    w_1,w_2=eigvec[:,-1],eigvec[:,-2]\n",
    "    return w_1,w_2\n",
    "\n",
    "w_1,w_2=compute_pc(C)\n",
    "w_1"
   ]
  },
  {
   "cell_type": "markdown",
   "id": "bae45980-0c0c-4fb9-86b3-76f3d99ba9ea",
   "metadata": {},
   "source": [
    "## Reconstruction using the two PCs\n",
    "The scalar projection of the dataset on $k^{th}$ PC is given by $ \\mathbf{X}_{\\text{centered}}^{T} \\ .\\ \\mathbf{w_{k}}$\n",
    "\n",
    "The vector projection of the dataset on $k^{th}$ PC is given by $\\mathbf{w_{k} .(\\mathbf{X}_{\\text{centered}}^{T} \\ .\\ \\mathbf{w_{k}})^{T}}$\n"
   ]
  },
  {
   "cell_type": "code",
   "execution_count": 16,
   "id": "a2a2b9ab-2339-420d-8500-6e01c4e2df28",
   "metadata": {},
   "outputs": [
    {
     "data": {
      "text/plain": [
       "array([[ 1.25,  2.25,  3.25,  4.25, -0.75, -3.75, -2.75, -3.75],\n",
       "       [ 0.75,  3.75,  2.75,  3.75, -1.25, -2.25, -3.25, -4.25]])"
      ]
     },
     "execution_count": 16,
     "metadata": {},
     "output_type": "execute_result"
    }
   ],
   "source": [
    "w_1 = w_1.reshape(w_1.shape[0],1)\n",
    "w_2 = w_2.reshape(w_2.shape[0],1)\n",
    "w_1 @ (X_centered.T @ w_1).reshape(1,n) + w_2 @ (X_centered.T @ w_2).reshape(1,n)"
   ]
  },
  {
   "cell_type": "markdown",
   "id": "13a3a514-f838-4b97-bd3e-8d596a4e16e6",
   "metadata": {},
   "source": [
    "Imp : summing up the projections on PCs should give us back the original centered dataset\n",
    "x=(x^T*w_1)w_1 + ....(x^T*w_d)w_d"
   ]
  },
  {
   "cell_type": "code",
   "execution_count": 17,
   "id": "4e49c53e-9f60-4a53-847c-0ad890856e6d",
   "metadata": {},
   "outputs": [
    {
     "name": "stdout",
     "output_type": "stream",
     "text": [
      "The reconstruction error with first PC is 0.125\n"
     ]
    }
   ],
   "source": [
    "#The reconstruction error by the first PC is given by\n",
    "X_1 = np.array((1.25,0.75))\n",
    "p_1 = X_centered[:,0]\n",
    "\n",
    "#Let the reconstruction of the first point using first PC be given by\n",
    "p_2 = w_1 @ (X_1 @ w_1)\n",
    "print(\"The reconstruction error with first PC is \"+ str(np.sum(np.square(p_1 - p_2))))"
   ]
  },
  {
   "cell_type": "code",
   "execution_count": 18,
   "id": "292e5654-0b1f-4fa7-9e8c-2e0f9fcc07a7",
   "metadata": {},
   "outputs": [
    {
     "name": "stdout",
     "output_type": "stream",
     "text": [
      "[0.125 1.125 0.125 0.125 0.125 1.125 0.125 0.125]\n"
     ]
    }
   ],
   "source": [
    "#Reconstruction error for each point when considering the first principal component\n",
    "rec_error_1 = np.square(np.linalg.norm(X_centered[:,] - (w_1 @ (X_centered.T @ w_1).reshape(1,n))[:,], axis=0))\n",
    "print(rec_error_1)"
   ]
  },
  {
   "cell_type": "code",
   "execution_count": 19,
   "id": "2a601c0e-f37f-4cb5-976f-a1fe92f720c7",
   "metadata": {},
   "outputs": [
    {
     "name": "stdout",
     "output_type": "stream",
     "text": [
      "The reconstruction error along the first principal component is 0.375\n"
     ]
    }
   ],
   "source": [
    "#Total reconstruction error when considering first principal component\n",
    "\n",
    "print(\"The reconstruction error along the first principal component is \"+str(np.round((rec_error_1).mean(),4)))"
   ]
  },
  {
   "cell_type": "code",
   "execution_count": 21,
   "id": "87e5b005-39fe-4e5c-94bc-6608e9ee37af",
   "metadata": {},
   "outputs": [
    {
     "name": "stdout",
     "output_type": "stream",
     "text": [
      "[ 1.5625  5.0625 10.5625 18.0625  0.5625 14.0625  7.5625 14.0625]\n"
     ]
    }
   ],
   "source": [
    "#Reconstruction error for each point when considering the vector w_r\n",
    "w_r = np.array([0,1]).reshape(-1,1)\n",
    "rec_error_r = np.square(np.linalg.norm(X_centered[:,] - (w_r @ (X_centered.T @ w_r).reshape(1,n))[:,], axis=0))\n",
    "print(rec_error_r)"
   ]
  },
  {
   "cell_type": "code",
   "execution_count": 22,
   "id": "7e4d30bc-27e0-443c-a24a-42e617c0d083",
   "metadata": {},
   "outputs": [
    {
     "name": "stdout",
     "output_type": "stream",
     "text": [
      "The reconstruction error along w_r is 8.9375\n"
     ]
    }
   ],
   "source": [
    "print(\"The reconstruction error along w_r is \"+str((rec_error_r).mean()))"
   ]
  },
  {
   "cell_type": "code",
   "execution_count": 23,
   "id": "0d2fd903-2f11-4382-be9e-a7156186cffa",
   "metadata": {},
   "outputs": [
    {
     "name": "stdout",
     "output_type": "stream",
     "text": [
      "The explained variance when K is 0 is 0.0\n",
      "The explained variance when K is 1 is 0.979\n",
      "The explained variance when K is 2 is 1.0\n"
     ]
    }
   ],
   "source": [
    "# Optimal k\n",
    "eigval, eigvec = np.linalg.eigh(C)\n",
    "eigval = eigval[::-1]\n",
    "def var_thresh(k):\n",
    "  tot_var = 0\n",
    "  req_var = 0\n",
    "  for x in eigval:\n",
    "    tot_var += x\n",
    "  for y in range(k):\n",
    "    req_var += eigval[y]\n",
    "\n",
    "  return (req_var/tot_var)\n",
    "\n",
    "for i in range(d+1):\n",
    "  print(\"The explained variance when K is \"+str(i)+\" is \"+str(np.round(var_thresh(i),4)))"
   ]
  }
 ],
 "metadata": {
  "kernelspec": {
   "display_name": "end_2_end_ch2",
   "language": "python",
   "name": "end_2_end_ch2"
  },
  "language_info": {
   "codemirror_mode": {
    "name": "ipython",
    "version": 3
   },
   "file_extension": ".py",
   "mimetype": "text/x-python",
   "name": "python",
   "nbconvert_exporter": "python",
   "pygments_lexer": "ipython3",
   "version": "3.12.4"
  }
 },
 "nbformat": 4,
 "nbformat_minor": 5
}
