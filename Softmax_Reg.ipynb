{
 "cells": [
  {
   "cell_type": "code",
   "execution_count": 58,
   "id": "3b1a8e37-1d4c-446c-bfd1-bd46f604fb7d",
   "metadata": {},
   "outputs": [],
   "source": [
    "import numpy as np\n",
    "import matplotlib.pyplot as plt\n",
    "import pandas as pd"
   ]
  },
  {
   "cell_type": "markdown",
   "id": "78f0793e-cafe-453c-8bc4-b7b5130a8036",
   "metadata": {},
   "source": [
    "### Batch gradient descent w/ Early stopping for softmax regression "
   ]
  },
  {
   "cell_type": "code",
   "execution_count": 59,
   "id": "fad9a773-1751-48fa-825a-73f584c37d07",
   "metadata": {},
   "outputs": [],
   "source": [
    "# load the dataset\n",
    "#split it Train validation test 0.2 0.2 each\n",
    "#y should be a 1 hot encoded vector\n",
    "#gradient descent so scaling necessary for X\n",
    "#softmax fn\n",
    "#simple gradient descent\n",
    "#accuracy\n",
    "#regularization\n",
    "#early stopping gradient descent acc\n",
    "\n",
    "#finally, test set"
   ]
  },
  {
   "cell_type": "code",
   "execution_count": 60,
   "id": "d8fea63f-4089-4f0c-b012-e80e04559732",
   "metadata": {},
   "outputs": [],
   "source": [
    "from sklearn.datasets import load_iris #loader\n",
    "data=load_iris()\n"
   ]
  },
  {
   "cell_type": "code",
   "execution_count": 61,
   "id": "25d93d94-2c4f-4362-b2e8-a1fe409ed8f7",
   "metadata": {},
   "outputs": [
    {
     "name": "stdout",
     "output_type": "stream",
     "text": [
      ".. _iris_dataset:\n",
      "\n",
      "Iris plants dataset\n",
      "--------------------\n",
      "\n",
      "**Data Set Characteristics:**\n",
      "\n",
      "    :Number of Instances: 150 (50 in each of three classes)\n",
      "    :Number of Attributes: 4 numeric, predictive attributes and the class\n",
      "    :Attribute Information:\n",
      "        - sepal length in cm\n",
      "        - sepal width in cm\n",
      "        - petal length in cm\n",
      "        - petal width in cm\n",
      "        - class:\n",
      "                - Iris-Setosa\n",
      "                - Iris-Versicolour\n",
      "                - Iris-Virginica\n",
      "                \n",
      "    :Summary Statistics:\n",
      "\n",
      "    ============== ==== ==== ======= ===== ====================\n",
      "                    Min  Max   Mean    SD   Class Correlation\n",
      "    ============== ==== ==== ======= ===== ====================\n",
      "    sepal length:   4.3  7.9   5.84   0.83    0.7826\n",
      "    sepal width:    2.0  4.4   3.05   0.43   -0.4194\n",
      "    petal length:   1.0  6.9   3.76   1.76    0.9490  (high!)\n",
      "    petal width:    0.1  2.5   1.20   0.76    0.9565  (high!)\n",
      "    ============== ==== ==== ======= ===== ====================\n",
      "\n",
      "    :Missing Attribute Values: None\n",
      "    :Class Distribution: 33.3% for each of 3 classes.\n",
      "    :Creator: R.A. Fisher\n",
      "    :Donor: Michael Marshall (MARSHALL%PLU@io.arc.nasa.gov)\n",
      "    :Date: July, 1988\n",
      "\n",
      "The famous Iris database, first used by Sir R.A. Fisher. The dataset is taken\n",
      "from Fisher's paper. Note that it's the same as in R, but not as in the UCI\n",
      "Machine Learning Repository, which has two wrong data points.\n",
      "\n",
      "This is perhaps the best known database to be found in the\n",
      "pattern recognition literature.  Fisher's paper is a classic in the field and\n",
      "is referenced frequently to this day.  (See Duda & Hart, for example.)  The\n",
      "data set contains 3 classes of 50 instances each, where each class refers to a\n",
      "type of iris plant.  One class is linearly separable from the other 2; the\n",
      "latter are NOT linearly separable from each other.\n",
      "\n",
      ".. topic:: References\n",
      "\n",
      "   - Fisher, R.A. \"The use of multiple measurements in taxonomic problems\"\n",
      "     Annual Eugenics, 7, Part II, 179-188 (1936); also in \"Contributions to\n",
      "     Mathematical Statistics\" (John Wiley, NY, 1950).\n",
      "   - Duda, R.O., & Hart, P.E. (1973) Pattern Classification and Scene Analysis.\n",
      "     (Q327.D83) John Wiley & Sons.  ISBN 0-471-22361-1.  See page 218.\n",
      "   - Dasarathy, B.V. (1980) \"Nosing Around the Neighborhood: A New System\n",
      "     Structure and Classification Rule for Recognition in Partially Exposed\n",
      "     Environments\".  IEEE Transactions on Pattern Analysis and Machine\n",
      "     Intelligence, Vol. PAMI-2, No. 1, 67-71.\n",
      "   - Gates, G.W. (1972) \"The Reduced Nearest Neighbor Rule\".  IEEE Transactions\n",
      "     on Information Theory, May 1972, 431-433.\n",
      "   - See also: 1988 MLC Proceedings, 54-64.  Cheeseman et al\"s AUTOCLASS II\n",
      "     conceptual clustering system finds 3 classes in the data.\n",
      "   - Many, many more ...\n"
     ]
    }
   ],
   "source": [
    "print(data.DESCR)"
   ]
  },
  {
   "cell_type": "code",
   "execution_count": 62,
   "id": "d7acfe5f-ce68-49e3-a740-bbb523ea6c91",
   "metadata": {},
   "outputs": [
    {
     "name": "stdout",
     "output_type": "stream",
     "text": [
      "['setosa' 'versicolor' 'virginica']\n"
     ]
    }
   ],
   "source": [
    "print(data.target_names)"
   ]
  },
  {
   "cell_type": "code",
   "execution_count": 63,
   "id": "1ae598c7-78dc-44f9-b085-0736d32f9b88",
   "metadata": {},
   "outputs": [
    {
     "name": "stdout",
     "output_type": "stream",
     "text": [
      "(150, 4)\n"
     ]
    }
   ],
   "source": [
    "print(data.data.shape)"
   ]
  },
  {
   "cell_type": "markdown",
   "id": "ba36dc4a-8911-411b-920b-4b65e1079baf",
   "metadata": {},
   "source": [
    "150 samples, 4 attributes. 3 classes ['setosa' 'versicolor' 'virginica']"
   ]
  },
  {
   "cell_type": "code",
   "execution_count": 64,
   "id": "92998479-48f5-4736-a441-41abe1daf74c",
   "metadata": {},
   "outputs": [],
   "source": [
    "#bias term allows the model to fit the data not centered around origin\n",
    "np.random.seed(42)\n",
    "X_bias = np.c_[np.ones(len(data.data)), data.data]\n",
    "test_ratio = 0.2\n",
    "validation_ratio = 0.2\n",
    "total_size = len(X_bias)\n",
    "\n",
    "test_size = int(total_size * 0.2)\n",
    "validation_size = int(total_size * 0.2)\n",
    "train_size = total_size - test_size - validation_size\n",
    "\n",
    "\n",
    "indices = np.random.permutation(total_size)\n",
    "\n",
    "X_train = X_bias[indices[:train_size]]\n",
    "y_train = data.target[indices[:train_size]]\n",
    "X_valid = X_bias[indices[train_size:-test_size]]\n",
    "y_valid = data.target[indices[train_size:-test_size]]\n",
    "X_test = X_bias[indices[-test_size:]]\n",
    "y_test = data.target[indices[-test_size:]]\n"
   ]
  },
  {
   "cell_type": "code",
   "execution_count": 65,
   "id": "0317f33c-6b95-4ef8-b18a-6ba84b6be199",
   "metadata": {},
   "outputs": [],
   "source": [
    "#y should be a 1 hot encoded vector\n",
    "\n",
    "def one_hot_encode(y):\n",
    "    # 3 cols in y peratining to[0,1,2]-> ['setosa' 'versicolor' 'virginica']\n",
    "    ohe=np.zeros((y.shape[0],3))\n",
    "    n=y.shape[0]\n",
    "    for i in range(n):\n",
    "        a=int(y[i])\n",
    "        ohe[i][a]=1\n",
    "    return ohe\n",
    "    \n",
    "    \n",
    "    \n",
    "    "
   ]
  },
  {
   "cell_type": "code",
   "execution_count": 66,
   "id": "e863056d-1523-46d8-ae93-7d67e4ef8f41",
   "metadata": {},
   "outputs": [],
   "source": [
    "y_train_ohe=one_hot_encode(y_train)\n",
    "y_valid_ohe=one_hot_encode(y_valid)\n",
    "y_test_ohe=one_hot_encode(y_test)"
   ]
  },
  {
   "cell_type": "code",
   "execution_count": 67,
   "id": "84fa5811-2f00-4ae9-b59a-89cacbc0a894",
   "metadata": {},
   "outputs": [],
   "source": [
    "#gradient descent so scaling necessary for X\n",
    "#gotta scale X_train,X_scaled,X_test\n",
    "#Note: you scale the data with the mean and std dev of the TRAINING DATA"
   ]
  },
  {
   "cell_type": "code",
   "execution_count": 68,
   "id": "bceb3469-b552-4d15-9770-914f5d0b9dc9",
   "metadata": {},
   "outputs": [],
   "source": [
    "#Scaling the data.\n",
    " #exclude the fist column as it consists of a bias term\n",
    "mean = X_train[:, 1:].mean(axis=0) \n",
    "std_dev = X_train[:, 1:].std(axis=0)\n",
    "X_train[:, 1:] = (X_train[:, 1:] - mean) / std_dev\n",
    "X_valid[:, 1:] = (X_valid[:, 1:] - mean) / std_dev\n",
    "X_test[:, 1:] = (X_test[:, 1:] - mean) / std_dev"
   ]
  },
  {
   "cell_type": "code",
   "execution_count": 69,
   "id": "2c4222c3-2b7a-4a95-af7b-ca96027779d3",
   "metadata": {},
   "outputs": [],
   "source": [
    "#softmax fn\n",
    "def softmax(logits):\n",
    "    #logits->(n,k) \n",
    "    # compute the exp for each row(element) and then, normalize row-wise\n",
    "    exps=np.exp(logits) #calculates for each element indpendently\n",
    "    sum_exps=exps.sum(axis=1,keepdims=True) #row wise \n",
    "    return exps/sum_exps\n",
    "    #keepdims ensures that the output arr has the same dimensions as the input arr\n",
    "    "
   ]
  },
  {
   "cell_type": "markdown",
   "id": "c50f3fcf-3a21-4498-8d1c-d3858920da7a",
   "metadata": {},
   "source": [
    "### simple gradient descent\n",
    "\n",
    "##### plotting validation error at certain epochs during model training. This allows you to monitor the model's performance on unseen data and can provide valuable insights into its generalization ability and whether it's overfitting or underfitting."
   ]
  },
  {
   "cell_type": "code",
   "execution_count": 70,
   "id": "3ff45c91-ba90-4667-addc-52414692c21f",
   "metadata": {},
   "outputs": [],
   "source": [
    "#W is a d x k matrix, where d-> number of features, k->number of classes\n",
    "n_inputs=X_train.shape[1] #d\n",
    "n_classes=y_test_ohe.shape[1] #K\n",
    "\n"
   ]
  },
  {
   "cell_type": "markdown",
   "id": "cccebcb7-f3db-4774-80af-ae418f9f8a18",
   "metadata": {},
   "source": [
    "$$\\nabla_w J(W)=-\\frac{1}{n}\\sum_{i=1}^n(\\^p_k^i-y_k^i)x^i$$"
   ]
  },
  {
   "cell_type": "code",
   "execution_count": 71,
   "id": "8db596fd-f18e-4059-9af3-630de6115a9d",
   "metadata": {},
   "outputs": [
    {
     "name": "stdout",
     "output_type": "stream",
     "text": [
      "0 4.626481998690278\n",
      "1000 0.36574227068022774\n",
      "2000 0.30155031828131335\n",
      "3000 0.2675502728373675\n",
      "4000 0.24430991163819288\n",
      "5000 0.22713201157949256\n",
      "6000 0.21385095122282038\n"
     ]
    }
   ],
   "source": [
    "np.random.seed(42)\n",
    "\n",
    "eta=0.01\n",
    "n_epochs=6001\n",
    "n=len(X_train)\n",
    "\n",
    "W=np.random.randn(n_inputs,n_classes)\n",
    "#gd: score->apply softmax -> get y_pred_prbab ->error ->gradient using the error ->W update\n",
    "for epoch in range(n_epochs):\n",
    "    logits=X_train @ W # (n x d) (d x k) -> (n x k)\n",
    "    y_probab=softmax(logits) #(n x k)\n",
    "\n",
    "    if epoch%1000==0: #at each 1000th iteration\n",
    "        y_valid_probab=softmax(X_valid @ W)\n",
    "        entropy_loss= -(y_valid_ohe * np.log(y_valid_probab + 1e-5))\n",
    "        print(epoch,entropy_loss.sum(axis=1).mean())\n",
    "    residual=y_probab - y_train_ohe\n",
    "    gradients= 1/n*X_train.T @ residual\n",
    "    #divide by number of samples in gradient and mini batch, not in stochastic\n",
    "    \n",
    "    W=W - eta * gradients\n",
    "\n",
    "\n"
   ]
  },
  {
   "cell_type": "code",
   "execution_count": 72,
   "id": "6e393a8d-f184-4240-b553-4abda88c1129",
   "metadata": {},
   "outputs": [
    {
     "data": {
      "text/plain": [
       "array([[ 0.26583001,  1.82998556, -1.08967718],\n",
       "       [-0.69959358,  0.74051622,  1.01381689],\n",
       "       [ 2.17409602, -0.11708096, -0.1798419 ],\n",
       "       [-2.0331503 ,  0.35797414,  1.28858876],\n",
       "       [-2.32373606, -2.00587032,  0.93337058]])"
      ]
     },
     "execution_count": 72,
     "metadata": {},
     "output_type": "execute_result"
    }
   ],
   "source": [
    "W"
   ]
  },
  {
   "cell_type": "code",
   "execution_count": 73,
   "id": "06ac288d-76c0-4469-96d7-2634283c0257",
   "metadata": {},
   "outputs": [
    {
     "data": {
      "text/plain": [
       "0.9333333333333333"
      ]
     },
     "execution_count": 73,
     "metadata": {},
     "output_type": "execute_result"
    }
   ],
   "source": [
    "logits = X_valid @ W\n",
    "Y_proba = softmax(logits)\n",
    "y_predict = Y_proba.argmax(axis=1)\n",
    "\n",
    "accuracy_score = (y_predict == y_valid).mean()\n",
    "accuracy_score"
   ]
  },
  {
   "cell_type": "markdown",
   "id": "4d01dc6c-c60a-4fe0-aa9b-2238bbf7fcee",
   "metadata": {},
   "source": []
  },
  {
   "cell_type": "markdown",
   "id": "488ae567-c2df-4d7c-b55b-d2c11c503523",
   "metadata": {},
   "source": [
    "#### applying  l2 Ridge regularization\n"
   ]
  },
  {
   "attachments": {
    "f602e0cb-bf0a-4c5f-90e2-dcd47b63da07.png": {
     "image/png": "[encoded data removed]"
    }
   },
   "cell_type": "markdown",
   "id": "074c413b-543a-420e-9d8c-8a55a0651025",
   "metadata": {},
   "source": [
    "Cost function with l2 regularization\n",
    "![Screenshot 2024-06-15 at 11.09.08.png](attachment:f602e0cb-bf0a-4c5f-90e2-dcd47b63da07.png)"
   ]
  },
  {
   "attachments": {
    "86d1859c-d8dc-4663-bd49-d6342cc2eaf5.png": {
     "image/png": "[encoded data removed]"
    }
   },
   "cell_type": "markdown",
   "id": "73346109-586e-480c-bef2-f36697595c08",
   "metadata": {},
   "source": [
    "![Screenshot 2024-06-15 at 10.51.43.png](attachment:86d1859c-d8dc-4663-bd49-d6342cc2eaf5.png)"
   ]
  },
  {
   "cell_type": "code",
   "execution_count": 74,
   "id": "8f0c1f2a-dab5-4fe7-8e46-459647b95ef2",
   "metadata": {},
   "outputs": [
    {
     "name": "stdout",
     "output_type": "stream",
     "text": [
      "0 4.6922\n",
      "1000 0.42\n",
      "2000 0.3659\n",
      "3000 0.3404\n",
      "4000 0.3249\n",
      "5000 0.3147\n"
     ]
    }
   ],
   "source": [
    "np.random.seed(42)\n",
    "eta = 0.01\n",
    "n_epochs = 5001\n",
    "n = len(X_train)\n",
    "epsilon = 1e-5\n",
    "alpha = 0.01  # regularization hyperparameter\n",
    "\n",
    "\n",
    "W = np.random.randn(n_inputs, n_classes)\n",
    "\n",
    "for epoch in range(n_epochs):\n",
    "    logits = X_train @ W\n",
    "    Y_proba = softmax(logits)\n",
    "    if epoch % 1000 == 0:\n",
    "        Y_proba_valid = softmax(X_valid @ W)\n",
    "        entropy_losses_reg = -(y_valid_ohe * np.log(Y_proba_valid + epsilon))\n",
    "        #exclude the bias, l2 loss should be a scalar, sum it\n",
    "        l2_loss = 1 / 2 * (W[1:] ** 2).sum()\n",
    "        total_loss = entropy_losses_reg.sum(axis=1).mean() + alpha * l2_loss \n",
    "        print(epoch, total_loss.round(4))\n",
    "    error = Y_proba - y_train_ohe\n",
    "    gradients = 1 / n * X_train.T @ error\n",
    "    #removing the bias term and adding it on the top again\n",
    "    #this is done because, in the regularization caclulation alpha*W, we aim to exclude the bias term\n",
    "    #at the end add it on the top againt to maintain consistency\n",
    "    gradients += np.r_[np.zeros([1, n_classes]), alpha * W[1:]]\n",
    "    W = W - eta * gradients"
   ]
  },
  {
   "cell_type": "code",
   "execution_count": 75,
   "id": "7cca8efd-42ee-4e09-81bd-a7265969d1c6",
   "metadata": {},
   "outputs": [
    {
     "data": {
      "text/plain": [
       "0.9333333333333333"
      ]
     },
     "execution_count": 75,
     "metadata": {},
     "output_type": "execute_result"
    }
   ],
   "source": [
    "logits = X_valid @ W\n",
    "Y_proba = softmax(logits)\n",
    "y_predict = Y_proba.argmax(axis=1)\n",
    "\n",
    "accuracy_score = (y_predict == y_valid).mean()\n",
    "accuracy_score"
   ]
  },
  {
   "cell_type": "markdown",
   "id": "4a00ad94-d7dd-4a27-8b20-23aa134a8833",
   "metadata": {},
   "source": [
    "#regularization doesnt faze the accuracy_score on the X_valid"
   ]
  },
  {
   "cell_type": "code",
   "execution_count": 77,
   "id": "97b18ff2-6fb6-4aa1-b7ea-c14113e0faac",
   "metadata": {},
   "outputs": [
    {
     "data": {
      "text/plain": [
       "0.9666666666666667"
      ]
     },
     "execution_count": 77,
     "metadata": {},
     "output_type": "execute_result"
    }
   ],
   "source": [
    "logits = X_test @ W\n",
    "Y_proba = softmax(logits)\n",
    "y_predict = Y_proba.argmax(axis=1)\n",
    "\n",
    "accuracy_score = (y_predict == y_test).mean()\n",
    "accuracy_score"
   ]
  },
  {
   "cell_type": "markdown",
   "id": "2cab0bbf-12a9-4b22-b87c-2cfbfdaea452",
   "metadata": {},
   "source": [
    "#### 96% accuaracy at the very end"
   ]
  },
  {
   "cell_type": "code",
   "execution_count": null,
   "id": "ce6a2f23-3f71-457c-9e2c-6fdba9aa8603",
   "metadata": {},
   "outputs": [],
   "source": []
  }
 ],
 "metadata": {
  "kernelspec": {
   "display_name": "end_2_end_ch2",
   "language": "python",
   "name": "end_2_end_ch2"
  },
  "language_info": {
   "codemirror_mode": {
    "name": "ipython",
    "version": 3
   },
   "file_extension": ".py",
   "mimetype": "text/x-python",
   "name": "python",
   "nbconvert_exporter": "python",
   "pygments_lexer": "ipython3",
   "version": "3.12.3"
  }
 },
 "nbformat": 4,
 "nbformat_minor": 5
}
